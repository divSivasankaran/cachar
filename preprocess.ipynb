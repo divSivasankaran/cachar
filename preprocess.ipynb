{
 "cells": [
  {
   "cell_type": "code",
   "execution_count": 1,
   "metadata": {},
   "outputs": [],
   "source": [
    "from io import BytesIO\n",
    "import openslide\n",
    "from openslide import ImageSlide, open_slide\n",
    "from openslide.deepzoom import DeepZoomGenerator\n",
    "from optparse import OptionParser\n",
    "import re\n",
    "from unicodedata import normalize\n",
    "\n",
    "DEEPZOOM_SLIDE = None\n",
    "DEEPZOOM_FORMAT = 'jpeg'\n",
    "DEEPZOOM_TILE_SIZE = 254\n",
    "DEEPZOOM_OVERLAP = 1\n",
    "DEEPZOOM_LIMIT_BOUNDS = True\n",
    "DEEPZOOM_TILE_QUALITY = 75\n",
    "SLIDE_NAME = 'slide'"
   ]
  },
  {
   "cell_type": "code",
   "execution_count": 2,
   "metadata": {},
   "outputs": [],
   "source": [
    "class PILBytesIO(BytesIO): \n",
    "    def load_slide(self):\n",
    "        slidefile = \"./patient_001/patient_001_node_0.tif\"\n",
    "        if slidefile is None:\n",
    "            raise ValueError('No slide file specified')\n",
    "        config_map = {\n",
    "            'DEEPZOOM_TILE_SIZE': 'tile_size',\n",
    "            'DEEPZOOM_OVERLAP': 'overlap',\n",
    "            'DEEPZOOM_LIMIT_BOUNDS': 'limit_bounds',\n",
    "        }\n",
    "        slide = open_slide(slidefile)\n",
    "        return slide    #     app.slides = {\n",
    "    #         SLIDE_NAME: DeepZoomGenerator(slide, **opts)\n",
    "    #     }\n",
    "    #     app.associated_images = []\n",
    "    #     app.slide_properties = slide.properties\n",
    "    #     for name, image in slide.associated_images.items():\n",
    "    #         app.associated_images.append(name)\n",
    "    #         slug = slugify(name)\n",
    "    #         app.slides[slug] = DeepZoomGenerator(ImageSlide(image), **opts)\n",
    "    #     try:\n",
    "    #         mpp_x = slide.properties[openslide.PROPERTY_NAME_MPP_X]\n",
    "    #         mpp_y = slide.properties[openslide.PROPERTY_NAME_MPP_Y]\n",
    "    #         app.slide_mpp = (float(mpp_x) + float(mpp_y)) / 2\n",
    "    #     except (KeyError, ValueError):\n",
    "    #         app.slide_mpp = 0"
   ]
  },
  {
   "cell_type": "code",
   "execution_count": 3,
   "metadata": {},
   "outputs": [],
   "source": [
    "obj  = PILBytesIO()\n",
    "slide = obj.load_slide()"
   ]
  },
  {
   "cell_type": "code",
   "execution_count": 4,
   "metadata": {},
   "outputs": [
    {
     "data": {
      "text/plain": [
       "<_PropertyMap {'openslide.level-count': '9', 'openslide.level[0].downsample': '1', 'openslide.level[0].height': '197226', 'openslide.level[0].tile-height': '512', 'openslide.level[0].tile-width': '512', 'openslide.level[0].width': '96651', 'openslide.level[1].downsample': '2.0000103466114849', 'openslide.level[1].height': '98613', 'openslide.level[1].tile-height': '512', 'openslide.level[1].tile-width': '512', 'openslide.level[1].width': '48325', 'openslide.level[2].downsample': '4.0000823624608852', 'openslide.level[2].height': '49306', 'openslide.level[2].tile-height': '512', 'openslide.level[2].tile-width': '512', 'openslide.level[2].width': '24162', 'openslide.level[3].downsample': '8.0001647249217704', 'openslide.level[3].height': '24653', 'openslide.level[3].tile-height': '512', 'openslide.level[3].tile-width': '512', 'openslide.level[3].width': '12081', 'openslide.level[4].downsample': '16.001316242627169', 'openslide.level[4].height': '12326', 'openslide.level[4].tile-height': '512', 'openslide.level[4].tile-width': '512', 'openslide.level[4].width': '6040', 'openslide.level[5].downsample': '32.002632485254338', 'openslide.level[5].height': '6163', 'openslide.level[5].tile-height': '512', 'openslide.level[5].tile-width': '512', 'openslide.level[5].width': '3020', 'openslide.level[6].downsample': '64.010458352947239', 'openslide.level[6].height': '3081', 'openslide.level[6].tile-height': '512', 'openslide.level[6].tile-width': '512', 'openslide.level[6].width': '1510', 'openslide.level[7].downsample': '128.04170035262752', 'openslide.level[7].height': '1540', 'openslide.level[7].tile-height': '512', 'openslide.level[7].tile-width': '512', 'openslide.level[7].width': '755', 'openslide.level[8].downsample': '256.25318130145718', 'openslide.level[8].height': '770', 'openslide.level[8].tile-height': '512', 'openslide.level[8].tile-width': '512', 'openslide.level[8].width': '377', 'openslide.quickhash-1': 'e9c3d25bc3d1342884137e11ab435f268848d923e2733057d3389e949280b371', 'openslide.vendor': 'generic-tiff', 'tiff.ResolutionUnit': 'centimeter', 'tiff.XResolution': '41136.381263887823', 'tiff.YResolution': '41136.381263887823'}>"
      ]
     },
     "execution_count": 4,
     "metadata": {},
     "output_type": "execute_result"
    }
   ],
   "source": [
    "slide.properties"
   ]
  },
  {
   "cell_type": "code",
   "execution_count": 5,
   "metadata": {},
   "outputs": [
    {
     "name": "stdout",
     "output_type": "stream",
     "text": [
      "9\n",
      "(96651, 197226)\n",
      "((96651, 197226), (48325, 98613), (24162, 49306), (12081, 24653), (6040, 12326), (3020, 6163), (1510, 3081), (755, 1540), (377, 770))\n"
     ]
    }
   ],
   "source": [
    "print(slide.level_count)\n",
    "print(slide.dimensions)\n",
    "print(slide.level_dimensions)"
   ]
  },
  {
   "cell_type": "code",
   "execution_count": null,
   "metadata": {},
   "outputs": [],
   "source": []
  },
  {
   "cell_type": "code",
   "execution_count": null,
   "metadata": {},
   "outputs": [],
   "source": []
  }
 ],
 "metadata": {
  "kernelspec": {
   "display_name": "Python 3",
   "language": "python",
   "name": "python3"
  },
  "language_info": {
   "codemirror_mode": {
    "name": "ipython",
    "version": 3
   },
   "file_extension": ".py",
   "mimetype": "text/x-python",
   "name": "python",
   "nbconvert_exporter": "python",
   "pygments_lexer": "ipython3",
   "version": "3.7.3"
  }
 },
 "nbformat": 4,
 "nbformat_minor": 2
}
